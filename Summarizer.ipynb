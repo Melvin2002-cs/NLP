{
 "cells": [
  {
   "cell_type": "code",
   "execution_count": 3,
   "id": "6cc96493-9ae0-408f-bcfc-7e08fc34d84b",
   "metadata": {},
   "outputs": [
    {
     "name": "stdout",
     "output_type": "stream",
     "text": [
      "WARNING:tensorflow:From C:\\Users\\Melvin\\anaconda3\\Lib\\site-packages\\keras\\src\\losses.py:2976: The name tf.losses.sparse_softmax_cross_entropy is deprecated. Please use tf.compat.v1.losses.sparse_softmax_cross_entropy instead.\n",
      "\n"
     ]
    }
   ],
   "source": [
    "from tensorflow.keras.preprocessing.text import Tokenizer\n",
    "from tensorflow.keras.preprocessing.sequence import pad_sequences\n",
    "import pandas as pd\n",
    "import pandas as pd\n",
    "import numpy as np\n",
    "import tensorflow as tf\n",
    "from tensorflow.keras.preprocessing.text import Tokenizer\n",
    "from tensorflow.keras.preprocessing.sequence import pad_sequences\n",
    "from tensorflow.keras.layers import Input, LSTM, Embedding, Dense\n",
    "from tensorflow.keras.models import Model"
   ]
  },
  {
   "cell_type": "code",
   "execution_count": 78,
   "id": "5b075dba-a92c-428d-8e99-c1d6ba1b09c3",
   "metadata": {},
   "outputs": [],
   "source": [
    "df=pd.read_csv('test.csv')"
   ]
  },
  {
   "cell_type": "code",
   "execution_count": 79,
   "id": "ed9e547b-c2ec-4cdb-a6fd-5bedaf791ebf",
   "metadata": {},
   "outputs": [],
   "source": [
    "df.drop(['id'],axis=1,inplace=True)"
   ]
  },
  {
   "cell_type": "code",
   "execution_count": 80,
   "id": "8a2d58b7-0e1d-43c7-93b2-8d46301f7469",
   "metadata": {},
   "outputs": [
    {
     "data": {
      "text/html": [
       "<div>\n",
       "<style scoped>\n",
       "    .dataframe tbody tr th:only-of-type {\n",
       "        vertical-align: middle;\n",
       "    }\n",
       "\n",
       "    .dataframe tbody tr th {\n",
       "        vertical-align: top;\n",
       "    }\n",
       "\n",
       "    .dataframe thead th {\n",
       "        text-align: right;\n",
       "    }\n",
       "</style>\n",
       "<table border=\"1\" class=\"dataframe\">\n",
       "  <thead>\n",
       "    <tr style=\"text-align: right;\">\n",
       "      <th></th>\n",
       "      <th>article</th>\n",
       "      <th>highlights</th>\n",
       "    </tr>\n",
       "  </thead>\n",
       "  <tbody>\n",
       "    <tr>\n",
       "      <th>0</th>\n",
       "      <td>Ever noticed how plane seats appear to be gett...</td>\n",
       "      <td>Experts question if  packed out planes are put...</td>\n",
       "    </tr>\n",
       "    <tr>\n",
       "      <th>1</th>\n",
       "      <td>A drunk teenage boy had to be rescued by secur...</td>\n",
       "      <td>Drunk teenage boy climbed into lion enclosure ...</td>\n",
       "    </tr>\n",
       "    <tr>\n",
       "      <th>2</th>\n",
       "      <td>Dougie Freedman is on the verge of agreeing a ...</td>\n",
       "      <td>Nottingham Forest are close to extending Dougi...</td>\n",
       "    </tr>\n",
       "    <tr>\n",
       "      <th>3</th>\n",
       "      <td>Liverpool target Neto is also wanted by PSG an...</td>\n",
       "      <td>Fiorentina goalkeeper Neto has been linked wit...</td>\n",
       "    </tr>\n",
       "    <tr>\n",
       "      <th>4</th>\n",
       "      <td>Bruce Jenner will break his silence in a two-h...</td>\n",
       "      <td>Tell-all interview with the reality TV star, 6...</td>\n",
       "    </tr>\n",
       "  </tbody>\n",
       "</table>\n",
       "</div>"
      ],
      "text/plain": [
       "                                             article  \\\n",
       "0  Ever noticed how plane seats appear to be gett...   \n",
       "1  A drunk teenage boy had to be rescued by secur...   \n",
       "2  Dougie Freedman is on the verge of agreeing a ...   \n",
       "3  Liverpool target Neto is also wanted by PSG an...   \n",
       "4  Bruce Jenner will break his silence in a two-h...   \n",
       "\n",
       "                                          highlights  \n",
       "0  Experts question if  packed out planes are put...  \n",
       "1  Drunk teenage boy climbed into lion enclosure ...  \n",
       "2  Nottingham Forest are close to extending Dougi...  \n",
       "3  Fiorentina goalkeeper Neto has been linked wit...  \n",
       "4  Tell-all interview with the reality TV star, 6...  "
      ]
     },
     "execution_count": 80,
     "metadata": {},
     "output_type": "execute_result"
    }
   ],
   "source": [
    "df.head()"
   ]
  },
  {
   "cell_type": "code",
   "execution_count": 81,
   "id": "2e71c060-7445-43aa-ae26-21d99d2beec2",
   "metadata": {},
   "outputs": [
    {
     "data": {
      "text/plain": [
       "(11490, 2)"
      ]
     },
     "execution_count": 81,
     "metadata": {},
     "output_type": "execute_result"
    }
   ],
   "source": [
    "df.shape"
   ]
  },
  {
   "cell_type": "code",
   "execution_count": 82,
   "id": "606e2a1d-16ae-4ac7-9f4d-2d8134e1929d",
   "metadata": {},
   "outputs": [],
   "source": [
    "tokenizer_inputs = Tokenizer()\n",
    "tokenizer_inputs.fit_on_texts(df['article'])\n",
    "input_sequences = tokenizer_inputs.texts_to_sequences(df['article'])\n",
    "\n",
    "tokenizer_outputs = Tokenizer()\n",
    "tokenizer_outputs.fit_on_texts(df['highlights'])\n",
    "output_sequences = tokenizer_outputs.texts_to_sequences(df['highlights'])"
   ]
  },
  {
   "cell_type": "code",
   "execution_count": 84,
   "id": "3aae6241-1819-4220-9ab6-c220755c21c3",
   "metadata": {},
   "outputs": [
    {
     "data": {
      "text/plain": [
       "1910"
      ]
     },
     "execution_count": 84,
     "metadata": {},
     "output_type": "execute_result"
    }
   ],
   "source": [
    "max_input_length = max(len(seq) for seq in input_sequences)\n",
    "max_output_length = max(len(seq) for seq in output_sequences)\n",
    "max_input_length #  maximum value in all article"
   ]
  },
  {
   "cell_type": "code",
   "execution_count": 99,
   "id": "536fcde8-68a5-48b1-a13b-20bec56d073e",
   "metadata": {},
   "outputs": [
    {
     "data": {
      "text/plain": [
       "array([[0., 0., 0., 0., 0.],\n",
       "       [0., 0., 0., 0., 0.],\n",
       "       [0., 0., 0., 0., 0.],\n",
       "       ...,\n",
       "       [0., 0., 0., 0., 0.],\n",
       "       [0., 0., 0., 0., 0.],\n",
       "       [0., 0., 0., 0., 0.]])"
      ]
     },
     "execution_count": 99,
     "metadata": {},
     "output_type": "execute_result"
    }
   ],
   "source": []
  },
  {
   "cell_type": "code",
   "execution_count": 93,
   "id": "a9d55361-18c9-4b4c-b66b-25cff3157281",
   "metadata": {},
   "outputs": [],
   "source": [
    "encoder_input_sequences = pad_sequences(input_sequences, maxlen=max_input_length, padding='post')\n",
    "decoder_input_sequences = pad_sequences(output_sequences, maxlen=max_output_length, padding='post')\n"
   ]
  },
  {
   "cell_type": "code",
   "execution_count": 96,
   "id": "f5a370f6-5fbe-4c98-a86f-e904246106a3",
   "metadata": {},
   "outputs": [],
   "source": [
    "decoder_target_sequences = np.zeros(decoder_input_sequences.shape)"
   ]
  },
  {
   "cell_type": "code",
   "execution_count": 100,
   "id": "89acd32c-c75e-4e86-be96-cabbcc6c5560",
   "metadata": {},
   "outputs": [],
   "source": [
    "decoder_target_sequences[:, :-1] = decoder_input_sequences[:, 1:]"
   ]
  },
  {
   "cell_type": "code",
   "execution_count": 101,
   "id": "5ad31d71-51ad-4972-90b1-de2fa20049ba",
   "metadata": {},
   "outputs": [],
   "source": [
    "# Define vocabulary sizes\n",
    "num_encoder_tokens = len(tokenizer_inputs.word_index) + 1   # input tokens for embedding layer   i.e for all the words\n",
    "num_decoder_tokens = len(tokenizer_outputs.word_index) + 1"
   ]
  },
  {
   "cell_type": "code",
   "execution_count": 102,
   "id": "f9467556-0e92-4886-8c32-2b2e506edc70",
   "metadata": {},
   "outputs": [],
   "source": [
    "max_encoder_seq_length = max_input_length\n",
    "max_decoder_seq_length = max_output_length"
   ]
  },
  {
   "cell_type": "code",
   "execution_count": 111,
   "id": "d6143a1e-b514-45ec-ad03-cf1adaf4dfb3",
   "metadata": {},
   "outputs": [],
   "source": [
    "# Define model parameters\n",
    "latent_dim = 256  # Adjust as needed\n",
    "batch_size = 1   # Adjust as needed\n",
    "epochs = 10       # Adjust as needed\n"
   ]
  },
  {
   "cell_type": "code",
   "execution_count": 105,
   "id": "66d678de-9fe8-498c-8362-5f932d69d56e",
   "metadata": {},
   "outputs": [],
   "source": [
    "# Define the encoder\n",
    "encoder_inputs = Input(shape=(None,))\n",
    "encoder_embedding = Embedding(num_encoder_tokens, latent_dim)(encoder_inputs)\n",
    "encoder_lstm = LSTM(latent_dim, return_state=True)\n",
    "encoder_outputs, state_h, state_c = encoder_lstm(encoder_embedding)\n",
    "encoder_states = [state_h, state_c]"
   ]
  },
  {
   "cell_type": "code",
   "execution_count": 106,
   "id": "fd550f62-21eb-49be-a9e7-efa42917cc0b",
   "metadata": {},
   "outputs": [],
   "source": [
    "# Define the decoder\n",
    "decoder_inputs = Input(shape=(None,))\n",
    "decoder_embedding = Embedding(num_decoder_tokens, latent_dim)\n",
    "decoder_lstm = LSTM(latent_dim, return_sequences=True, return_state=True)\n",
    "decoder_outputs, _, _ = decoder_lstm(decoder_embedding(decoder_inputs), initial_state=encoder_states)\n",
    "decoder_dense = Dense(num_decoder_tokens, activation='softmax')\n",
    "decoder_outputs = decoder_dense(decoder_outputs)"
   ]
  },
  {
   "cell_type": "code",
   "execution_count": 107,
   "id": "5e7daa81-e0a0-4ef4-ba64-f8be28458c5c",
   "metadata": {},
   "outputs": [],
   "source": [
    "# Define the model\n",
    "model = Model([encoder_inputs, decoder_inputs], decoder_outputs)\n",
    "\n",
    "# Compile the model\n",
    "model.compile(optimizer='adam', loss='sparse_categorical_crossentropy')\n"
   ]
  },
  {
   "cell_type": "code",
   "execution_count": 113,
   "id": "70001c63-103e-44c0-a9e6-0f5fa79e4263",
   "metadata": {},
   "outputs": [
    {
     "name": "stdout",
     "output_type": "stream",
     "text": [
      "Epoch 1/10\n",
      "9192/9192 [==============================] - 1877s 204ms/step - loss: 0.5529 - val_loss: 0.6574\n",
      "Epoch 2/10\n",
      "9192/9192 [==============================] - 1867s 203ms/step - loss: 0.4934 - val_loss: 0.6698\n",
      "Epoch 3/10\n",
      "9192/9192 [==============================] - 3379s 368ms/step - loss: 0.4394 - val_loss: 0.6859\n",
      "Epoch 4/10\n",
      "9192/9192 [==============================] - 2724s 296ms/step - loss: 0.3901 - val_loss: 0.7061\n",
      "Epoch 5/10\n",
      "9192/9192 [==============================] - 3279s 357ms/step - loss: 0.3473 - val_loss: 0.7285\n",
      "Epoch 6/10\n",
      "9192/9192 [==============================] - 3112s 339ms/step - loss: 0.3114 - val_loss: 0.7475\n",
      "Epoch 7/10\n",
      "9192/9192 [==============================] - 2935s 319ms/step - loss: 0.2808 - val_loss: 0.7681\n",
      "Epoch 8/10\n",
      "9192/9192 [==============================] - 2787s 303ms/step - loss: 0.2548 - val_loss: 0.7886\n",
      "Epoch 9/10\n",
      "9192/9192 [==============================] - 2424s 264ms/step - loss: 0.2327 - val_loss: 0.8073\n",
      "Epoch 10/10\n",
      "9192/9192 [==============================] - 2371s 258ms/step - loss: 0.2138 - val_loss: 0.8278\n"
     ]
    },
    {
     "data": {
      "text/plain": [
       "<keras.callbacks.History at 0x206125f0ee0>"
      ]
     },
     "execution_count": 113,
     "metadata": {},
     "output_type": "execute_result"
    }
   ],
   "source": [
    "model.fit([encoder_input_sequences, decoder_input_sequences], decoder_target_sequences,\n",
    "          batch_size=batch_size,\n",
    "          epochs=epochs,\n",
    "          validation_split=0.2)"
   ]
  },
  {
   "cell_type": "code",
   "execution_count": 114,
   "id": "57ab6316-2dd0-43a5-a538-15b91c03316f",
   "metadata": {},
   "outputs": [],
   "source": [
    "model.save('model.h5')"
   ]
  },
  {
   "cell_type": "code",
   "execution_count": 5,
   "id": "c29fc2db-efd9-4d1e-9e32-848193f4aa02",
   "metadata": {},
   "outputs": [
    {
     "name": "stdout",
     "output_type": "stream",
     "text": [
      "WARNING:tensorflow:From C:\\Users\\Melvin\\anaconda3\\Lib\\site-packages\\keras\\src\\backend.py:1398: The name tf.executing_eagerly_outside_functions is deprecated. Please use tf.compat.v1.executing_eagerly_outside_functions instead.\n",
      "\n",
      "Model: \"model\"\n",
      "__________________________________________________________________________________________________\n",
      " Layer (type)                Output Shape                 Param #   Connected to                  \n",
      "==================================================================================================\n",
      " input_1 (InputLayer)        [(None, None)]               0         []                            \n",
      "                                                                                                  \n",
      " input_2 (InputLayer)        [(None, None)]               0         []                            \n",
      "                                                                                                  \n",
      " embedding_2 (Embedding)     (None, None, 256)            3517926   ['input_1[0][0]']             \n",
      "                                                          4                                       \n",
      "                                                                                                  \n",
      " embedding_3 (Embedding)     (None, None, 256)            1119436   ['input_2[0][0]']             \n",
      "                                                          8                                       \n",
      "                                                                                                  \n",
      " lstm (LSTM)                 [(None, 256),                525312    ['embedding_2[0][0]']         \n",
      "                              (None, 256),                                                        \n",
      "                              (None, 256)]                                                        \n",
      "                                                                                                  \n",
      " lstm_1 (LSTM)               [(None, None, 256),          525312    ['embedding_3[0][0]',         \n",
      "                              (None, 256),                           'lstm[0][1]',                \n",
      "                              (None, 256)]                           'lstm[0][2]']                \n",
      "                                                                                                  \n",
      " dense (Dense)               (None, None, 43728)          1123809   ['lstm_1[0][0]']              \n",
      "                                                          6                                       \n",
      "                                                                                                  \n",
      "==================================================================================================\n",
      "Total params: 58662352 (223.78 MB)\n",
      "Trainable params: 58662352 (223.78 MB)\n",
      "Non-trainable params: 0 (0.00 Byte)\n",
      "__________________________________________________________________________________________________\n"
     ]
    }
   ],
   "source": [
    "loaded_model = tf.keras.saving.load_model(\"model.h5\")\n",
    "loaded_model.summary()"
   ]
  },
  {
   "cell_type": "code",
   "execution_count": null,
   "id": "743cd418-fcee-439b-9889-d7177707d00d",
   "metadata": {},
   "outputs": [],
   "source": []
  },
  {
   "cell_type": "code",
   "execution_count": 54,
   "id": "427bd80d-3400-407d-99da-87263c46ac21",
   "metadata": {},
   "outputs": [],
   "source": [
    "for x in range(df.shape[0]):\n",
    "    article=df.iloc[x:x+1,0:1].values\n",
    "    highlights=df.iloc[x:x+1,1:2].values\n",
    "    tokenizer_inputs.fit_on_texts([article[0][0]])\n",
    "    tokenizer_outputs.fit_on_texts([highlights[0][0]])\n",
    "    if len(article[0][0].split())>max_input_length:\n",
    "        max_input_length=len(article[0][0].split())\n",
    "    if len(highlights[0][0].split())>max_output_length:\n",
    "        max_output_length=len(highlights[0][0].split())\n",
    "    \n",
    "\n"
   ]
  },
  {
   "cell_type": "code",
   "execution_count": 61,
   "id": "b39689f4-d574-4203-9447-bf49d2ec6a86",
   "metadata": {},
   "outputs": [],
   "source": [
    "input_sequences = tokenizer_inputs.texts_to_sequences([a[0][0]])\n",
    "output_sequences = tokenizer_outputs.texts_to_sequences([h[0][0]])\n"
   ]
  },
  {
   "cell_type": "code",
   "execution_count": 66,
   "id": "9bf786dc-dc0c-4778-a0c0-9dd40c24b174",
   "metadata": {},
   "outputs": [
    {
     "data": {
      "text/plain": [
       "830"
      ]
     },
     "execution_count": 66,
     "metadata": {},
     "output_type": "execute_result"
    }
   ],
   "source": [
    "# max_input_length = max(len(seq) for seq in input_sequences)\n",
    "# max_input_length\n",
    "len(input_sequences[0])"
   ]
  },
  {
   "cell_type": "code",
   "execution_count": 72,
   "id": "cc254b78-64eb-45d2-b002-b2dfdf371a1e",
   "metadata": {},
   "outputs": [
    {
     "data": {
      "text/plain": [
       "[[271]]"
      ]
     },
     "execution_count": 72,
     "metadata": {},
     "output_type": "execute_result"
    }
   ],
   "source": [
    "tokenizer_inputs.texts_to_sequences(['across'])"
   ]
  },
  {
   "cell_type": "code",
   "execution_count": null,
   "id": "52e4772c-3669-4986-a174-f3a8f8590160",
   "metadata": {},
   "outputs": [],
   "source": [
    "encoder_input_sequences = pad_sequences(input_sequences, maxlen=850, padding='post')\n",
    "encoder_input_sequences"
   ]
  },
  {
   "cell_type": "code",
   "execution_count": 51,
   "id": "671bef89-1b45-498c-9d19-63b4752024be",
   "metadata": {},
   "outputs": [
    {
     "data": {
      "text/plain": [
       "59857"
      ]
     },
     "execution_count": 51,
     "metadata": {},
     "output_type": "execute_result"
    }
   ],
   "source": [
    "len(tokenizer_inputs.word_index)"
   ]
  },
  {
   "cell_type": "code",
   "execution_count": null,
   "id": "a2e7e4b1-eec4-44fe-8140-cd11b1077d09",
   "metadata": {},
   "outputs": [],
   "source": [
    "a=df.iloc[2:3,0:1].values\n",
    "a[0][0]"
   ]
  },
  {
   "cell_type": "code",
   "execution_count": 60,
   "id": "4102041d-7ec2-4424-9c19-6f2a0a898f2f",
   "metadata": {},
   "outputs": [
    {
     "data": {
      "text/plain": [
       "\"Craig Eccleston-Todd, 27, had drunk at least three pints before driving car .\\nWas using phone when he veered across road in Yarmouth, Isle of Wight .\\nCrashed head-on into 28-year-old Rachel Titley's car, who died in hospital .\\nPolice say he would have been over legal drink-drive limit at time of crash .\\nHe was found guilty at Portsmouth Crown Court of causing death by dangerous driving .\""
      ]
     },
     "execution_count": 60,
     "metadata": {},
     "output_type": "execute_result"
    }
   ],
   "source": [
    "h=df.iloc[2:3,1:2].values\n",
    "h[0][0]"
   ]
  },
  {
   "cell_type": "code",
   "execution_count": 58,
   "id": "e522951f-9fe6-4f64-b7aa-3b98d2bdb245",
   "metadata": {},
   "outputs": [
    {
     "data": {
      "text/plain": [
       "69"
      ]
     },
     "execution_count": 58,
     "metadata": {},
     "output_type": "execute_result"
    }
   ],
   "source": [
    "m=m.reshape(1,1)\n",
    "len(m[0][0].split())"
   ]
  },
  {
   "cell_type": "code",
   "execution_count": 75,
   "id": "0274b219-cb44-4c0e-83e1-b36dea00bf92",
   "metadata": {},
   "outputs": [
    {
     "name": "stdout",
     "output_type": "stream",
     "text": [
      "1/1 [==============================] - 0s 50ms/step\n",
      "(32, 10, 64)\n"
     ]
    },
    {
     "data": {
      "text/plain": [
       "array([[[-0.00196074, -0.02135772, -0.04362501, ..., -0.01652638,\n",
       "          0.02154041,  0.02266935],\n",
       "        [ 0.01611585, -0.04028884,  0.0321898 , ...,  0.02318347,\n",
       "          0.03314524,  0.0041486 ],\n",
       "        [ 0.01930294,  0.01204542,  0.02200768, ...,  0.02742699,\n",
       "          0.0114092 ,  0.04346487],\n",
       "        ...,\n",
       "        [ 0.01347807, -0.03351621,  0.04307661, ...,  0.04735649,\n",
       "          0.02516514,  0.02334478],\n",
       "        [-0.0445575 ,  0.01160324, -0.03195496, ..., -0.03243134,\n",
       "          0.00382978,  0.00582314],\n",
       "        [ 0.03525546,  0.00190321, -0.01665533, ..., -0.00285423,\n",
       "          0.02281702, -0.04005935]],\n",
       "\n",
       "       [[ 0.04547021, -0.0146823 , -0.00892843, ..., -0.03490139,\n",
       "         -0.03265649,  0.01320997],\n",
       "        [ 0.01609809,  0.03688388, -0.04170477, ..., -0.00472521,\n",
       "          0.03684527,  0.00789084],\n",
       "        [-0.01424219,  0.03080088, -0.04676735, ...,  0.03842786,\n",
       "         -0.00551232, -0.00326425],\n",
       "        ...,\n",
       "        [-0.01091368,  0.04848974,  0.00600308, ...,  0.0458388 ,\n",
       "         -0.04479558, -0.0134187 ],\n",
       "        [-0.03594502, -0.00801765,  0.04877787, ..., -0.03658932,\n",
       "          0.03082241,  0.03657296],\n",
       "        [-0.01407961, -0.04280421, -0.00708643, ...,  0.00648351,\n",
       "          0.01084775,  0.01716776]],\n",
       "\n",
       "       [[ 0.03313768,  0.04925478, -0.00912672, ..., -0.04091241,\n",
       "          0.00376607, -0.03933347],\n",
       "        [ 0.02675816,  0.02207447, -0.01586559, ..., -0.03587385,\n",
       "          0.04394946, -0.01489326],\n",
       "        [-0.02405003,  0.04885519, -0.01333015, ..., -0.02524807,\n",
       "         -0.01346161,  0.0150348 ],\n",
       "        ...,\n",
       "        [-0.03683485, -0.04997563,  0.01048453, ..., -0.01339559,\n",
       "         -0.02485026,  0.03162681],\n",
       "        [-0.04768577, -0.0050415 , -0.0093464 , ...,  0.04054718,\n",
       "          0.02916603,  0.03151834],\n",
       "        [ 0.03959442,  0.04250744,  0.02446863, ...,  0.00734704,\n",
       "          0.03595452, -0.03978761]],\n",
       "\n",
       "       ...,\n",
       "\n",
       "       [[ 0.03440858, -0.02240692,  0.03611541, ...,  0.02037415,\n",
       "         -0.0151662 , -0.00994704],\n",
       "        [ 0.0493853 ,  0.00266589, -0.03358523, ...,  0.0287305 ,\n",
       "          0.04820955, -0.02143393],\n",
       "        [ 0.01798779, -0.00828004,  0.03482414, ...,  0.02856082,\n",
       "         -0.0292281 , -0.00534417],\n",
       "        ...,\n",
       "        [ 0.03905712, -0.03286271, -0.03929746, ...,  0.02456893,\n",
       "          0.0415591 , -0.00640458],\n",
       "        [-0.02750388,  0.04459849, -0.00833286, ..., -0.0031861 ,\n",
       "          0.00701008, -0.00500848],\n",
       "        [ 0.02952988,  0.03249549, -0.04432693, ..., -0.00963335,\n",
       "         -0.02379537, -0.02655567]],\n",
       "\n",
       "       [[-0.02115929, -0.03870223, -0.03593702, ...,  0.02350111,\n",
       "         -0.03690286, -0.01838716],\n",
       "        [ 0.00914626, -0.03623568, -0.0424952 , ..., -0.04707251,\n",
       "          0.00033268,  0.02343145],\n",
       "        [ 0.0388651 ,  0.04209146,  0.02409014, ...,  0.02150102,\n",
       "          0.03519027,  0.01666324],\n",
       "        ...,\n",
       "        [-0.00696616,  0.04198618,  0.01379878, ..., -0.0426048 ,\n",
       "          0.03668985,  0.00703654],\n",
       "        [-0.02221045,  0.00828335, -0.01051437, ...,  0.02859006,\n",
       "         -0.00154867,  0.01348008],\n",
       "        [-0.00533589,  0.00248794, -0.02568147, ...,  0.03807822,\n",
       "          0.03842116, -0.00088211]],\n",
       "\n",
       "       [[-0.0393625 , -0.00323906,  0.01712583, ...,  0.01722754,\n",
       "          0.01732839,  0.00612149],\n",
       "        [ 0.04442697, -0.00223935,  0.03750836, ...,  0.02364441,\n",
       "          0.02490754,  0.03151758],\n",
       "        [ 0.02026597,  0.04365785, -0.00241679, ...,  0.04569768,\n",
       "         -0.00026183, -0.01639255],\n",
       "        ...,\n",
       "        [ 0.01356785,  0.03485748, -0.0481357 , ..., -0.03507783,\n",
       "          0.01731687, -0.04980401],\n",
       "        [-0.02579057,  0.04792943, -0.00262368, ...,  0.04601718,\n",
       "          0.04099995, -0.00045204],\n",
       "        [ 0.02893473,  0.02855357,  0.02334671, ...,  0.02765328,\n",
       "          0.0242253 , -0.02979341]]], dtype=float32)"
      ]
     },
     "execution_count": 75,
     "metadata": {},
     "output_type": "execute_result"
    }
   ],
   "source": [
    "import tensorflow as tf\n",
    "import numpy as np\n",
    "model = tf.keras.Sequential()\n",
    "model.add(tf.keras.layers.Embedding(1000, 64, input_length=10))\n",
    "# The model will take as input an integer matrix of size (batch,\n",
    "# input_length), and the largest integer (i.e. word index) in the input\n",
    "# should be no larger than 999 (vocabulary size).\n",
    "# Now model.output_shape is (None, 10, 64), where `None` is the batch\n",
    "# dimension.\n",
    "input_array = np.random.randint(1000, size=(32, 10))\n",
    "model.compile('rmsprop', 'mse')\n",
    "output_array = model.predict(input_array)\n",
    "print(output_array.shape)\n",
    "output_array"
   ]
  },
  {
   "cell_type": "code",
   "execution_count": 74,
   "id": "13aa98bd-fe2e-417e-a64c-521ecd527500",
   "metadata": {},
   "outputs": [
    {
     "data": {
      "text/plain": [
       "(32, 10)"
      ]
     },
     "execution_count": 74,
     "metadata": {},
     "output_type": "execute_result"
    }
   ],
   "source": [
    "input_array.shape"
   ]
  },
  {
   "cell_type": "code",
   "execution_count": null,
   "id": "1313da19-744b-4cf5-9903-3eaee8a36c6b",
   "metadata": {},
   "outputs": [],
   "source": []
  }
 ],
 "metadata": {
  "kernelspec": {
   "display_name": "Python 3 (ipykernel)",
   "language": "python",
   "name": "python3"
  },
  "language_info": {
   "codemirror_mode": {
    "name": "ipython",
    "version": 3
   },
   "file_extension": ".py",
   "mimetype": "text/x-python",
   "name": "python",
   "nbconvert_exporter": "python",
   "pygments_lexer": "ipython3",
   "version": "3.11.5"
  }
 },
 "nbformat": 4,
 "nbformat_minor": 5
}
